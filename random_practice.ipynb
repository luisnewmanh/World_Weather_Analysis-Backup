{
 "cells": [
  {
   "cell_type": "code",
   "execution_count": 2,
   "metadata": {},
   "outputs": [],
   "source": [
    "# Import the random module.\n",
    "import random"
   ]
  },
  {
   "cell_type": "code",
   "execution_count": 3,
   "metadata": {},
   "outputs": [
    {
     "data": {
      "text/plain": [
       "-51"
      ]
     },
     "execution_count": 3,
     "metadata": {},
     "output_type": "execute_result"
    }
   ],
   "source": [
    "random.randint(-90,90)"
   ]
  },
  {
   "cell_type": "code",
   "execution_count": 4,
   "metadata": {},
   "outputs": [
    {
     "data": {
      "text/plain": [
       "0.2999738969973271"
      ]
     },
     "execution_count": 4,
     "metadata": {},
     "output_type": "execute_result"
    }
   ],
   "source": [
    "random.random()"
   ]
  },
  {
   "cell_type": "code",
   "execution_count": 6,
   "metadata": {},
   "outputs": [
    {
     "data": {
      "text/plain": [
       "22.098720009397972"
      ]
     },
     "execution_count": 6,
     "metadata": {},
     "output_type": "execute_result"
    }
   ],
   "source": [
    "random_number=random.randint(-90,90)+random.random()\n",
    "random_number"
   ]
  },
  {
   "cell_type": "code",
   "execution_count": 9,
   "metadata": {},
   "outputs": [
    {
     "data": {
      "text/plain": [
       "[36.00920463286822,\n",
       " 9.4152706664428,\n",
       " 50.1614963827121,\n",
       " -20.913412923228066,\n",
       " -31.119739920325365,\n",
       " -21.969639232924905,\n",
       " 50.744345872422635,\n",
       " -48.594720650635054,\n",
       " 42.990584360420996,\n",
       " -35.92770661925328]"
      ]
     },
     "execution_count": 9,
     "metadata": {},
     "output_type": "execute_result"
    }
   ],
   "source": [
    "#create latitudes method 1\n",
    "latitudes=[]\n",
    "for lat in range (10):\n",
    "    rand_lat=random.randint(-89,89)+random.random()\n",
    "    latitudes.append(rand_lat)\n",
    "latitudes"
   ]
  },
  {
   "cell_type": "code",
   "execution_count": 12,
   "metadata": {},
   "outputs": [
    {
     "data": {
      "text/plain": [
       "2"
      ]
     },
     "execution_count": 12,
     "metadata": {},
     "output_type": "execute_result"
    }
   ],
   "source": [
    "random.randrange(-90, 90)"
   ]
  },
  {
   "cell_type": "code",
   "execution_count": 11,
   "metadata": {},
   "outputs": [
    {
     "data": {
      "text/plain": [
       "-66"
      ]
     },
     "execution_count": 11,
     "metadata": {},
     "output_type": "execute_result"
    }
   ],
   "source": [
    "random.randrange(-90, 90, step=3)"
   ]
  },
  {
   "cell_type": "code",
   "execution_count": 13,
   "metadata": {},
   "outputs": [
    {
     "data": {
      "text/plain": [
       "-9.298774367201204"
      ]
     },
     "execution_count": 13,
     "metadata": {},
     "output_type": "execute_result"
    }
   ],
   "source": [
    "random.uniform(-90, 90)"
   ]
  },
  {
   "cell_type": "code",
   "execution_count": 14,
   "metadata": {},
   "outputs": [
    {
     "data": {
      "text/plain": [
       "[20.427397895687193,\n",
       " -24.718453663834865,\n",
       " -37.15774712870432,\n",
       " 16.89610919087866,\n",
       " 11.4199703616177,\n",
       " 24.995232913041875,\n",
       " 75.59145116554424,\n",
       " 18.351998372184482,\n",
       " -7.3522245808164115,\n",
       " -36.01816791058513]"
      ]
     },
     "execution_count": 14,
     "metadata": {},
     "output_type": "execute_result"
    }
   ],
   "source": [
    "#create latitudes method 1 (uniform)\n",
    "latitudes=[]\n",
    "for lat in range (10):\n",
    "    rand_lat=random.uniform(-90,90)\n",
    "    latitudes.append(rand_lat)\n",
    "latitudes"
   ]
  },
  {
   "cell_type": "code",
   "execution_count": 15,
   "metadata": {},
   "outputs": [],
   "source": [
    "# Import the NumPy module.\n",
    "import numpy as np"
   ]
  },
  {
   "cell_type": "code",
   "execution_count": 16,
   "metadata": {},
   "outputs": [
    {
     "data": {
      "text/plain": [
       "87.01944288274615"
      ]
     },
     "execution_count": 16,
     "metadata": {},
     "output_type": "execute_result"
    }
   ],
   "source": [
    "np.random.uniform(low=-90, high=90)"
   ]
  },
  {
   "cell_type": "code",
   "execution_count": 18,
   "metadata": {},
   "outputs": [
    {
     "data": {
      "text/plain": [
       "array([ 15.61415335, -63.98432458,  11.51406119, -26.83458197,\n",
       "       -16.40083203, -72.30201651,   5.51144048,  59.37556486,\n",
       "         2.12542951, -70.0069691 , -47.44080144, -28.34616529,\n",
       "        67.54002002,  61.2859088 ,  67.06934859,  65.06483572,\n",
       "       -66.93072349,   5.0631376 ,  26.35878509, -20.65577516,\n",
       "        53.86522883,  55.34030286, -80.22970429, -10.77270399,\n",
       "        65.78111703, -79.52611725,  -5.07815507,  64.2863089 ,\n",
       "       -56.92468616,  89.26114649, -15.03806619,  84.60775051,\n",
       "       -75.95983209,  63.03960703,  38.26403326, -25.30675971,\n",
       "        36.45315906, -88.04789631, -13.74773645, -83.94890066,\n",
       "       -72.71892451,   2.69806231, -66.42822792, -78.27122746,\n",
       "       -59.80019971,   4.62807199,  65.72312404,  25.04201879,\n",
       "        39.14809446, -64.84435818,  39.75332991, -25.40544336,\n",
       "        68.2290487 , -70.17866997,  21.55588536,  -4.13017006,\n",
       "       -57.56222933,  61.57928637,  32.2074571 ,  53.77608686,\n",
       "       -32.1075878 ,  18.82193306, -46.26823759, -35.51455966,\n",
       "        12.71679634,  53.74177218,  45.44938278, -25.79832711,\n",
       "       -22.10449419, -64.31658214,  71.92390273,  38.26329547,\n",
       "        15.24943283, -14.98055829,  39.00215882,  45.82591377,\n",
       "        25.59391036, -42.0723741 , -34.5525796 , -14.3400163 ,\n",
       "        28.02139552, -47.10800599,  -2.63517579,  67.71351924,\n",
       "        -4.68150881,  12.77810095, -24.85914915,  28.35837732,\n",
       "       -46.82438931,  79.99205261,  57.67147874, -73.77711087,\n",
       "       -18.02394851,  18.45576575, -73.13777444,  89.73935032,\n",
       "        29.48152522,  31.04099318, -16.91014415,  76.36166595,\n",
       "       -61.35546109, -73.76274719, -47.05586875,  24.34493077,\n",
       "       -56.83816175,   5.54830482,  -0.59817285,  70.27887762,\n",
       "        25.83376294, -87.6286772 , -70.24209776,  14.25337923,\n",
       "        -5.48998935,  56.31603146, -20.60455607, -47.70858369,\n",
       "       -85.67470097,  79.86519412, -25.51112118,  56.73542047,\n",
       "         3.68676596, -52.82197344,  36.12879119, -39.14212735,\n",
       "       -70.40259014, -84.48386854,  26.80179023,  70.22310898,\n",
       "       -44.93470613, -80.11550384, -48.18582264,  51.70008436,\n",
       "        78.56765209, -76.59786134, -53.63033168,  64.47686977,\n",
       "        44.11712919, -39.72851837, -88.42682094,  34.71119678,\n",
       "       -80.13559212,  62.62139921, -44.8544219 ,   4.03546657,\n",
       "        49.62796693,  56.56581812,  22.46554675, -49.9150083 ,\n",
       "        -4.77744417,  -8.4410665 ,  74.63665426, -61.32182779,\n",
       "        42.19741719,  75.0569709 ,  21.83029082,  74.16263326,\n",
       "         5.60215142,  29.18925065, -44.90907319,  37.82104992,\n",
       "       -65.28795036, -30.22725762,   9.34975117,  14.15984825,\n",
       "       -54.38507655, -16.75118576,  58.63982945,  -1.41550082,\n",
       "       -21.08355217,  -0.48046561, -81.11670211,  34.80606302,\n",
       "       -40.9985719 ,  73.73266812,  39.06275257, -14.1492511 ,\n",
       "        41.70306911, -45.40523372,  27.15630404, -13.14640633,\n",
       "        48.28622156,  -2.89166339, -56.72719858,  -8.52441748,\n",
       "         6.42847086,  67.83020855,  60.87647953, -66.50286402,\n",
       "        22.37267569,  89.27752558,  46.12769405,  78.53214588,\n",
       "        34.35466122, -12.33945792, -55.24848246,  82.19978575,\n",
       "       -80.31252734,  30.15307394, -73.41032294,  -2.949962  ,\n",
       "       -68.74687723, -68.80626404,  52.29568122, -36.77798338,\n",
       "        34.45651036, -49.52519238,  -2.85447111,  73.8572605 ,\n",
       "       -56.76451863,  68.65526166,   7.38049939,  74.06916276,\n",
       "        70.23350962,   0.80602245, -21.26960383, -14.27433659,\n",
       "        72.85317407,  11.53480624, -49.80147783,  80.2420727 ,\n",
       "       -21.36181419,  23.47246126, -86.83278839,  11.3185314 ,\n",
       "       -25.56009084,  53.62661195, -46.6549905 , -80.61992048,\n",
       "        54.95364754,  80.0842    , -26.13016196,  68.14649974,\n",
       "       -77.52468217, -13.59994348,  61.97751741, -34.53638329,\n",
       "        51.53463471, -75.28279358,  78.27542097,   8.9870707 ,\n",
       "        84.91003349, -64.11526608, -40.77210672,  75.16367205,\n",
       "        89.19738401,  41.66477907,  79.12724146,  87.34092216,\n",
       "        -0.25196107, -25.16140133,  54.69953532,   8.24958903,\n",
       "       -49.37951614, -38.70313053,  47.48775343,  85.01734941,\n",
       "        63.33432102, -68.89276689,  61.88024217,  24.74329362,\n",
       "       -44.02393229, -62.766343  , -88.12662785,  12.9722381 ,\n",
       "       -50.12246116, -73.01790961,  18.48613537, -76.5524095 ,\n",
       "        35.38166896,  -7.3535999 , -60.68541262,  42.46153628,\n",
       "        50.7614527 , -56.34036821,  33.10297643, -88.97160513,\n",
       "       -32.50747967,  33.25383653, -85.94891052,  -0.19129729,\n",
       "        16.84796605,  33.18783918,  56.78510664,  -2.00019613,\n",
       "       -10.15452493, -61.85911732,  32.2019713 , -82.60359511,\n",
       "       -73.98769131,  58.68731466,  67.35972418, -53.0845734 ,\n",
       "        46.01556129, -57.62422452, -68.72801881, -84.38442569,\n",
       "        75.22039213,  79.46317721,  78.34990425,  55.11891232,\n",
       "       -68.49478575,  -0.6286942 , -68.23620455, -81.19492114,\n",
       "        89.2447844 , -40.72353681, -24.28921642,  85.86133459,\n",
       "        85.45229766,  30.85118694, -73.79632608,  70.07889815,\n",
       "        36.28416994,   9.73522921, -43.56570943,  17.74438341,\n",
       "        23.95777719, -24.02602028, -14.05898859, -26.28194964,\n",
       "        25.70519628, -10.22426983,  54.0800243 ,  35.9713109 ,\n",
       "        71.76353905,  63.46705524, -50.46300812,   9.378542  ,\n",
       "        52.54556031, -50.69950203, -39.78697313,  10.86475445,\n",
       "       -30.28272486, -39.51395988,   5.06340755,   1.84506817,\n",
       "       -32.54821576,  87.35045053, -39.61925596, -35.21749076,\n",
       "        -9.49101035, -85.8827628 , -87.3035101 , -40.81413654,\n",
       "        34.20076208,   9.37479938,  74.82942953, -76.04431749,\n",
       "       -22.59707039, -84.8612668 ,  30.11037204, -64.75221692,\n",
       "       -10.07891895, -28.12333153, -88.46481601,  11.33062905,\n",
       "        66.780281  , -58.44986235, -81.2321891 , -76.05713911,\n",
       "        73.85828713, -30.56694207,  10.81293563,  84.04684087,\n",
       "        81.07366652,  60.57918105,  24.14343468, -46.06197237,\n",
       "       -10.37506726, -42.77825345,  -5.25728392, -75.58216923,\n",
       "        71.62180204, -62.54824543,  71.07594369,  36.54818439,\n",
       "       -59.30655333, -27.65160601, -25.41297214,  78.3102196 ,\n",
       "       -40.09960934,  60.09631041, -12.97350768,  41.15393014,\n",
       "        -1.92880694, -56.45438539,  64.92451148,  11.82549619,\n",
       "        69.82333105, -11.84982977, -15.87032675, -41.42694013,\n",
       "       -17.25747448, -62.90850597,  40.42043707, -53.76401397,\n",
       "       -21.24344015, -12.95793725, -89.19010122, -68.95384017,\n",
       "       -13.19841645,  47.24038186,  18.6565534 , -85.66309938,\n",
       "         5.29065643,   4.30589885,  27.3956451 ,   0.23459226,\n",
       "         4.22613715, -21.8033556 ,   6.25878511,  24.92106056,\n",
       "       -83.58953273,  16.09796292,  17.27229584,   3.61715103,\n",
       "       -49.93402103,  80.90331052,  44.79340769,  -7.12620246,\n",
       "       -32.25510428,  27.00432928,  56.49032072,  44.44837704,\n",
       "       -48.63913381,  53.99038567,  32.13439598, -68.50854714,\n",
       "       -56.58881019, -42.06197093,  16.39242303, -60.30446576,\n",
       "        61.84937429,  83.32600774,  12.78096198,  36.67173043,\n",
       "        31.21602715, -45.38293495,  -8.13802001,  80.15234633,\n",
       "         4.68778377, -12.62901705,  -5.80847374, -23.27615251,\n",
       "        49.38780343,  44.3609816 , -33.20826946,  17.80875396,\n",
       "       -43.17749687,  24.54459333, -36.10038333,   9.11991951,\n",
       "        48.32567518, -37.112733  ,  41.58426464,  25.09644605,\n",
       "       -83.44952103,  18.57289171, -35.52280821,  -2.30631807,\n",
       "        43.94875762,  38.5068881 , -88.02626023,  28.329479  ,\n",
       "       -89.71309584,  43.82054126,  50.32939361,  26.68068457,\n",
       "       -83.41403956,  70.01369036, -79.24561973, -42.25454065,\n",
       "        82.12804715,  16.73950645, -23.77413356, -72.37462547,\n",
       "       -68.30108067, -33.47466637,  32.54829572,  26.51278771,\n",
       "        77.61133221, -44.11773351,  82.07727479,  57.45379799,\n",
       "        36.99019442, -74.42000212, -77.66218353, -43.50132642,\n",
       "       -48.81623184,  69.9325712 ,  32.37348384,  30.95310416,\n",
       "       -26.6732001 , -50.8255909 ,  -2.15733041, -83.73079334,\n",
       "       -36.31426747,  64.14624174,  50.45725552,  71.27297177])"
      ]
     },
     "execution_count": 18,
     "metadata": {},
     "output_type": "execute_result"
    }
   ],
   "source": [
    "np.random.uniform(low=-90, high=90, size=500)"
   ]
  },
  {
   "cell_type": "code",
   "execution_count": 19,
   "metadata": {},
   "outputs": [],
   "source": [
    "# Import timeit.\n",
    "import timeit"
   ]
  },
  {
   "cell_type": "code",
   "execution_count": 22,
   "metadata": {},
   "outputs": [
    {
     "name": "stdout",
     "output_type": "stream",
     "text": [
      "33.5 µs ± 190 ns per loop (mean ± std. dev. of 7 runs, 10000 loops each)\n"
     ]
    }
   ],
   "source": [
    "%timeit np.random.uniform(-90, 90, size=1500)"
   ]
  },
  {
   "cell_type": "code",
   "execution_count": 21,
   "metadata": {},
   "outputs": [
    {
     "name": "stdout",
     "output_type": "stream",
     "text": [
      "4.63 ms ± 253 µs per loop (mean ± std. dev. of 7 runs, 100 loops each)\n"
     ]
    }
   ],
   "source": [
    "def latitudes2(size):\n",
    "    latitudes = []\n",
    "    x = 0\n",
    "    while x < (size):\n",
    "        random_lat = random.randint(-90, 90) + random.random()\n",
    "        latitudes.append(random_lat)\n",
    "        x += 1\n",
    "    return latitudes\n",
    "# Call the function with 1500.\n",
    "%timeit latitudes2(1500)"
   ]
  },
  {
   "cell_type": "code",
   "execution_count": 23,
   "metadata": {},
   "outputs": [
    {
     "name": "stdout",
     "output_type": "stream",
     "text": [
      "30.3 µs ± 3.35 µs per loop (mean ± std. dev. of 7 runs, 10000 loops each)\n"
     ]
    }
   ],
   "source": [
    "def latitudes(size):\n",
    "    latitudes=[]\n",
    "    for lat in range (10):\n",
    "            rand_lat=random.randint(-90, 90) + random.random()#random.uniform(-90,90)\n",
    "            latitudes.append(rand_lat)\n",
    "    return latitudes\n",
    "# Call the function with 1500.\n",
    "%timeit latitudes(1500)"
   ]
  },
  {
   "cell_type": "code",
   "execution_count": 28,
   "metadata": {},
   "outputs": [
    {
     "name": "stdout",
     "output_type": "stream",
     "text": [
      "<zip object at 0x000001E9C99FFA48>\n",
      "[('John', 'Jenny'), ('Charles', 'Christy'), ('Mike', 'Monica')]\n"
     ]
    }
   ],
   "source": [
    "a = (\"John\", \"Charles\", \"Mike\")\n",
    "b = (\"Jenny\", \"Christy\", \"Monica\")\n",
    "\n",
    "x = zip(a, b)\n",
    "print(x)\n",
    "print(list(x))"
   ]
  },
  {
   "cell_type": "code",
   "execution_count": 1,
   "metadata": {},
   "outputs": [],
   "source": [
    "# Import linear regression from the SciPy stats module.\n",
    "from scipy.stats import linregress"
   ]
  },
  {
   "cell_type": "code",
   "execution_count": 2,
   "metadata": {},
   "outputs": [],
   "source": [
    "# Create an equal number of latitudes and temperatures.\n",
    "lats = [42.5, 43.9, 8.1, 36.8, 79.9, 69.1, 25.7, 15.3, 12.7, 64.5]\n",
    "temps = [80.5, 75.3, 90.9, 90.0, 40.4, 62.3, 85.4, 79.6, 72.5, 72.0]"
   ]
  },
  {
   "cell_type": "code",
   "execution_count": 4,
   "metadata": {},
   "outputs": [
    {
     "name": "stdout",
     "output_type": "stream",
     "text": [
      "LinregressResult(slope=-0.452929121241496, intercept=92.93922548147363, rvalue=-0.7590444753769936, pvalue=0.01089687086168761, stderr=0.13734880392044935)\n",
      "y = -0.45x + 92.94\n",
      "The p-value is: 0.011\n"
     ]
    }
   ],
   "source": [
    "# Perform linear regression.\n",
    "(slope, intercept, r_value, p_value, std_err) = linregress(lats, temps)\n",
    "print(linregress(lats, temps))\n",
    "# Get the equation of the line.\n",
    "line_eq = \"y = \" + str(round(slope,2)) + \"x + \" + str(round(intercept,2))\n",
    "print(line_eq)\n",
    "print(f\"The p-value is: {p_value:.3f}\")"
   ]
  },
  {
   "cell_type": "code",
   "execution_count": 5,
   "metadata": {},
   "outputs": [],
   "source": [
    "# Calculate the regression line \"y values\" from the slope and intercept.\n",
    "regress_values = [(lat * slope + intercept) for lat in lats]"
   ]
  },
  {
   "cell_type": "code",
   "execution_count": 6,
   "metadata": {},
   "outputs": [
    {
     "data": {
      "image/png": "[encoded data removed]",
      "text/plain": [
       "<Figure size 432x288 with 1 Axes>"
      ]
     },
     "metadata": {
      "needs_background": "light"
     },
     "output_type": "display_data"
    }
   ],
   "source": [
    "# Import Matplotlib.\n",
    "import matplotlib.pyplot as plt\n",
    "# Create a scatter plot of the x and y values.\n",
    "plt.scatter(lats,temps)\n",
    "# Plot the regression line with the x-values and the y coordinates based on the intercept and slope.\n",
    "plt.plot(lats,regress_values,\"r\")\n",
    "# Annotate the text for the line equation and add its coordinates.\n",
    "plt.annotate(line_eq, (10,40), fontsize=15, color=\"red\")\n",
    "plt.xlabel('Latitude')\n",
    "plt.ylabel('Temp')\n",
    "plt.show()"
   ]
  },
  {
   "cell_type": "code",
   "execution_count": null,
   "metadata": {},
   "outputs": [],
   "source": []
  }
 ],
 "metadata": {
  "kernelspec": {
   "display_name": "PythonDat",
   "language": "python",
   "name": "pythondat"
  },
  "language_info": {
   "codemirror_mode": {
    "name": "ipython",
    "version": 3
   },
   "file_extension": ".py",
   "mimetype": "text/x-python",
   "name": "python",
   "nbconvert_exporter": "python",
   "pygments_lexer": "ipython3",
   "version": "3.7.7"
  }
 },
 "nbformat": 4,
 "nbformat_minor": 4
}
